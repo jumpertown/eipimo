{
 "cells": [
  {
   "cell_type": "markdown",
   "metadata": {},
   "source": [
    "# Its Own Slope\n",
    "\n",
    "So we're looking for a function whose value is equal to the size of its slope. One such trivial function would be\n",
    "\n",
    "f(x) = 0\n",
    "\n",
    "But are there any more interesting ones"
   ]
  },
  {
   "cell_type": "code",
   "execution_count": 9,
   "metadata": {},
   "outputs": [],
   "source": [
    "import math"
   ]
  },
  {
   "cell_type": "markdown",
   "metadata": {},
   "source": [
    "## So what would it look like?\n",
    "\n",
    "Start out detective work by cutting put a few triangles...\n",
    "\n",
    "\n",
    "So there are plenty of functions that have a value that match their slope. In fact there are infinite ones.\n",
    "\n",
    "Add diagram\n",
    "\n",
    "So what else do we know\n",
    "\n",
    "If there is a function f(x) that yields its own slope then the function Af(x) would also yield its own slope. Setting A to zero gives the trivial case that is zero everywhere. So let's say f(x) is the function that f(0) = 1\n",
    "\n",
    "$$f(0) = 1$$\n",
    "\n",
    "This is the taylor expansion we saw from Wigglometer:\n",
    "\n",
    "$$f(x) = f(0) + f'(0).x/1! + f''(0).x^2/2! + f'''(0).x^3/3!$$\n",
    "\n",
    "Given that the slope is the same value as the function if we were to plot the slope then the slope of that slope would also be the same as the function; and the slope of the slope of the slope. That is to say:\n",
    "\n",
    "$$f(0) \\equiv f'(0) \\equiv f''(0) \\equiv f'''(0) \\equiv 1$$\n",
    "\n",
    "Hence f(x) would be:\n",
    "\n",
    "$$f(x) = 1 + x/1! + x^2/2! + x^3/3!$$\n",
    "\n",
    "So f(1) would be:\n",
    "\n",
    "$$f(1) = 1 + 1/1! + 1/2! + 1/3!$$\n",
    "\n",
    "As we saw before in the Tug of War these factorials get big very quickly so if this is a finite number we may expect it to appear after not many iterations.\n",
    "\n",
    "Let's look:\n"
   ]
  },
  {
   "cell_type": "code",
   "execution_count": 10,
   "metadata": {},
   "outputs": [],
   "source": [
    "def self_slope_at_one_generator():\n",
    "    factorial = 0\n",
    "    summation = 0\n",
    "    while True:\n",
    "        summation += 1 / math.factorial(factorial)\n",
    "        yield summation\n",
    "        factorial += 1  "
   ]
  },
  {
   "cell_type": "code",
   "execution_count": 11,
   "metadata": {},
   "outputs": [
    {
     "name": "stdout",
     "output_type": "stream",
     "text": [
      "Up to  0 factorial: 1.0\n",
      "Up to  1 factorial: 2.0\n",
      "Up to  2 factorial: 2.5\n",
      "Up to  3 factorial: 2.6666666666666665\n",
      "Up to  4 factorial: 2.708333333333333\n",
      "Up to  5 factorial: 2.7166666666666663\n",
      "Up to  6 factorial: 2.7180555555555554\n",
      "Up to  7 factorial: 2.7182539682539684\n",
      "Up to  8 factorial: 2.71827876984127\n",
      "Up to  9 factorial: 2.7182815255731922\n",
      "Up to 10 factorial: 2.7182818011463845\n",
      "Up to 11 factorial: 2.718281826198493\n",
      "Up to 12 factorial: 2.7182818282861687\n",
      "Up to 13 factorial: 2.7182818284467594\n",
      "Up to 14 factorial: 2.71828182845823\n",
      "Up to 15 factorial: 2.718281828458995\n",
      "Up to 16 factorial: 2.718281828459043\n",
      "Up to 17 factorial: 2.7182818284590455\n",
      "Up to 18 factorial: 2.7182818284590455\n",
      "Up to 19 factorial: 2.7182818284590455\n"
     ]
    }
   ],
   "source": [
    "gen = self_slope_at_one_generator()\n",
    "for x in range(20):\n",
    "    print('Up to {:2} factorial: {}'.format(x, next(gen)))"
   ]
  },
  {
   "cell_type": "code",
   "execution_count": 12,
   "metadata": {},
   "outputs": [
    {
     "data": {
      "text/plain": [
       "2.718281828459045"
      ]
     },
     "execution_count": 12,
     "metadata": {},
     "output_type": "execute_result"
    }
   ],
   "source": [
    "math.e"
   ]
  },
  {
   "cell_type": "markdown",
   "metadata": {},
   "source": [
    "So what do we know about the function so far? We know...\n",
    "\n",
    "1. It exists (we can draw it).\n",
    "\n",
    "2. We know the value at f(0)\n",
    "$$f(0) = 1$$\n",
    "\n",
    "3. As it goes to the right of the origin it goes up very quickly with small increments in x.\n",
    "\n",
    "4. To the left of the origin it goes down very slowly approaching zero but never quite reaching it.\n",
    "\n",
    "5. We know the value of f(1)$$f(1) \\approx 2.71828$$\n",
    "\n",
    "6. We can express it as a polynomial:$$f(x) = 1 + x/1! + x^2/2! + x^3/3!$$\n",
    "\n",
    "7. I don't quite remember how we can infer this; but:\n",
    "$$f(x + y) \\equiv f(x)f(y)$$\n",
    "\n"
   ]
  },
  {
   "cell_type": "markdown",
   "metadata": {},
   "source": [
    "Compare the above with the exponentials we saw in Tug of War.\n",
    "\n",
    "1. The shape looks similar to the one we would expect.\n",
    "2. All exponentials are one as x = 0\n",
    "3. They go up very quickly to the right\n",
    "4. And slowly approach zero to the left\n",
    "5. They have the additive property\n",
    "$$10^(2+5) = 10^2.10^5$$\n",
    "6. If it goes through x^1 it is e so if it is an exponential function it would be\n",
    "$$f(x) = e^x$$"
   ]
  },
  {
   "cell_type": "markdown",
   "metadata": {},
   "source": [
    "## Proof\n",
    "\n",
    "Let's start with our definition of the slope from ...\n",
    "\n",
    "$$slope of e^x = \\lim_{dx\\to0} e^{x+dx} - e^x / dx$$"
   ]
  },
  {
   "cell_type": "code",
   "execution_count": null,
   "metadata": {},
   "outputs": [],
   "source": []
  }
 ],
 "metadata": {
  "kernelspec": {
   "display_name": "Python 3",
   "language": "python",
   "name": "python3"
  },
  "language_info": {
   "codemirror_mode": {
    "name": "ipython",
    "version": 3
   },
   "file_extension": ".py",
   "mimetype": "text/x-python",
   "name": "python",
   "nbconvert_exporter": "python",
   "pygments_lexer": "ipython3",
   "version": "3.6.0"
  }
 },
 "nbformat": 4,
 "nbformat_minor": 2
}
